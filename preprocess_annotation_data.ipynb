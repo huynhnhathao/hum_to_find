{
 "cells": [
  {
   "cell_type": "markdown",
   "id": "f285b7a2",
   "metadata": {},
   "source": [
    "## Preprocess annotation file\n",
    "\n",
    "**This notebook will split the train data into train and validation data**\n",
    "\n",
    "- First, all the songs will be split into 2 parts, one for train and one for val\n",
    "- Then, the train annotation data will be reorganized such that each row contains `music_id`, `path`, and the hummed sound will be treated as a song with the same `music_id` as the original song.\n"
   ]
  },
  {
   "cell_type": "code",
   "execution_count": 1,
   "id": "8c9a1b99",
   "metadata": {},
   "outputs": [],
   "source": [
    "import pandas as pd\n",
    "from sklearn import model_selection"
   ]
  },
  {
   "cell_type": "code",
   "execution_count": 2,
   "id": "9f82d710",
   "metadata": {},
   "outputs": [],
   "source": [
    "annotation = pd.read_csv('/home/huynhhao/Desktop/hum/hum_to_find/meta_data/train_meta.csv')"
   ]
  },
  {
   "cell_type": "code",
   "execution_count": 5,
   "id": "2fc09e3c",
   "metadata": {},
   "outputs": [],
   "source": [
    "train, val = model_selection.train_test_split(annotation, test_size = 300, random_state = 42)"
   ]
  },
  {
   "cell_type": "code",
   "execution_count": 24,
   "id": "817c80c4",
   "metadata": {},
   "outputs": [],
   "source": [
    "def process_annotation(df: pd.DataFrame) -> pd.DataFrame:\n",
    "    new_df = pd.DataFrame([], columns = ['music_id', 'path'])\n",
    "    for _, row in df.iterrows():\n",
    "        song = {'music_id': row['music_id'], 'path': row['song_path']}\n",
    "        hum = {'music_id': row['music_id'], 'path': row['hum_path']}\n",
    "        \n",
    "        new_df = new_df.append(song, ignore_index = True)\n",
    "        new_df = new_df.append(hum, ignore_index = True)\n",
    "        \n",
    "    return new_df"
   ]
  },
  {
   "cell_type": "code",
   "execution_count": 27,
   "id": "4965ac26",
   "metadata": {},
   "outputs": [],
   "source": [
    "new_val = process_annotation(val)"
   ]
  },
  {
   "cell_type": "code",
   "execution_count": 8,
   "id": "68557c44",
   "metadata": {},
   "outputs": [],
   "source": [
    "train.to_csv('/home/huynhhao/Desktop/hum/hum_to_find/meta_data/train_annotation.csv', index = False)\n",
    "val.to_csv('/home/huynhhao/Desktop/hum/hum_to_find/meta_data/val_annotation.csv', index = False)\n",
    "                 "
   ]
  },
  {
   "cell_type": "code",
   "execution_count": null,
   "id": "9e449b6c",
   "metadata": {},
   "outputs": [],
   "source": []
  }
 ],
 "metadata": {
  "kernelspec": {
   "display_name": "Python 3 (ipykernel)",
   "language": "python",
   "name": "python3"
  },
  "language_info": {
   "codemirror_mode": {
    "name": "ipython",
    "version": 3
   },
   "file_extension": ".py",
   "mimetype": "text/x-python",
   "name": "python",
   "nbconvert_exporter": "python",
   "pygments_lexer": "ipython3",
   "version": "3.9.7"
  }
 },
 "nbformat": 4,
 "nbformat_minor": 5
}

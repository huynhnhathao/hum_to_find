{
  "nbformat": 4,
  "nbformat_minor": 0,
  "metadata": {
    "colab": {
      "name": "crepe_transformer.ipynb",
      "provenance": [],
      "collapsed_sections": []
    },
    "kernelspec": {
      "name": "python3",
      "display_name": "Python 3"
    },
    "language_info": {
      "name": "python"
    },
    "widgets": {
      "application/vnd.jupyter.widget-state+json": {
        "5b5e1c660b1d47f8a3998eee3e4a2566": {
          "model_module": "@jupyter-widgets/controls",
          "model_name": "HBoxModel",
          "model_module_version": "1.5.0",
          "state": {
            "_view_name": "HBoxView",
            "_dom_classes": [],
            "_model_name": "HBoxModel",
            "_view_module": "@jupyter-widgets/controls",
            "_model_module_version": "1.5.0",
            "_view_count": null,
            "_view_module_version": "1.5.0",
            "box_style": "",
            "layout": "IPY_MODEL_b5a25b7a64404f00aeda1896dc4a4a0e",
            "_model_module": "@jupyter-widgets/controls",
            "children": [
              "IPY_MODEL_48c74d5041944463980a6a5041968d1b",
              "IPY_MODEL_213f5ca0941142ce8c353f56543c4dbd",
              "IPY_MODEL_acbb542329924110b68cb91b011d3517"
            ]
          }
        },
        "b5a25b7a64404f00aeda1896dc4a4a0e": {
          "model_module": "@jupyter-widgets/base",
          "model_name": "LayoutModel",
          "model_module_version": "1.2.0",
          "state": {
            "_view_name": "LayoutView",
            "grid_template_rows": null,
            "right": null,
            "justify_content": null,
            "_view_module": "@jupyter-widgets/base",
            "overflow": null,
            "_model_module_version": "1.2.0",
            "_view_count": null,
            "flex_flow": null,
            "width": null,
            "min_width": null,
            "border": null,
            "align_items": null,
            "bottom": null,
            "_model_module": "@jupyter-widgets/base",
            "top": null,
            "grid_column": null,
            "overflow_y": null,
            "overflow_x": null,
            "grid_auto_flow": null,
            "grid_area": null,
            "grid_template_columns": null,
            "flex": null,
            "_model_name": "LayoutModel",
            "justify_items": null,
            "grid_row": null,
            "max_height": null,
            "align_content": null,
            "visibility": null,
            "align_self": null,
            "height": null,
            "min_height": null,
            "padding": null,
            "grid_auto_rows": null,
            "grid_gap": null,
            "max_width": null,
            "order": null,
            "_view_module_version": "1.2.0",
            "grid_template_areas": null,
            "object_position": null,
            "object_fit": null,
            "grid_auto_columns": null,
            "margin": null,
            "display": null,
            "left": null
          }
        },
        "48c74d5041944463980a6a5041968d1b": {
          "model_module": "@jupyter-widgets/controls",
          "model_name": "HTMLModel",
          "model_module_version": "1.5.0",
          "state": {
            "_view_name": "HTMLView",
            "style": "IPY_MODEL_9ae4d1ce848245c5a4ef942c4d010bf5",
            "_dom_classes": [],
            "description": "",
            "_model_name": "HTMLModel",
            "placeholder": "​",
            "_view_module": "@jupyter-widgets/controls",
            "_model_module_version": "1.5.0",
            "value": "100%",
            "_view_count": null,
            "_view_module_version": "1.5.0",
            "description_tooltip": null,
            "_model_module": "@jupyter-widgets/controls",
            "layout": "IPY_MODEL_b0f35706d438425e903a24e558fbd809"
          }
        },
        "213f5ca0941142ce8c353f56543c4dbd": {
          "model_module": "@jupyter-widgets/controls",
          "model_name": "FloatProgressModel",
          "model_module_version": "1.5.0",
          "state": {
            "_view_name": "ProgressView",
            "style": "IPY_MODEL_5293d76291bb475a99e116a3698c36c3",
            "_dom_classes": [],
            "description": "",
            "_model_name": "FloatProgressModel",
            "bar_style": "success",
            "max": 2901,
            "_view_module": "@jupyter-widgets/controls",
            "_model_module_version": "1.5.0",
            "value": 2901,
            "_view_count": null,
            "_view_module_version": "1.5.0",
            "orientation": "horizontal",
            "min": 0,
            "description_tooltip": null,
            "_model_module": "@jupyter-widgets/controls",
            "layout": "IPY_MODEL_c70781374353499b8754dc1bcb7d5d20"
          }
        },
        "acbb542329924110b68cb91b011d3517": {
          "model_module": "@jupyter-widgets/controls",
          "model_name": "HTMLModel",
          "model_module_version": "1.5.0",
          "state": {
            "_view_name": "HTMLView",
            "style": "IPY_MODEL_b6f1bc7174f84843ab01f6af2e28b1b7",
            "_dom_classes": [],
            "description": "",
            "_model_name": "HTMLModel",
            "placeholder": "​",
            "_view_module": "@jupyter-widgets/controls",
            "_model_module_version": "1.5.0",
            "value": " 2901/2901 [35:06&lt;00:00,  1.20it/s]",
            "_view_count": null,
            "_view_module_version": "1.5.0",
            "description_tooltip": null,
            "_model_module": "@jupyter-widgets/controls",
            "layout": "IPY_MODEL_7d2e7a6792e54b7aaca12f935f0f79e6"
          }
        },
        "9ae4d1ce848245c5a4ef942c4d010bf5": {
          "model_module": "@jupyter-widgets/controls",
          "model_name": "DescriptionStyleModel",
          "model_module_version": "1.5.0",
          "state": {
            "_view_name": "StyleView",
            "_model_name": "DescriptionStyleModel",
            "description_width": "",
            "_view_module": "@jupyter-widgets/base",
            "_model_module_version": "1.5.0",
            "_view_count": null,
            "_view_module_version": "1.2.0",
            "_model_module": "@jupyter-widgets/controls"
          }
        },
        "b0f35706d438425e903a24e558fbd809": {
          "model_module": "@jupyter-widgets/base",
          "model_name": "LayoutModel",
          "model_module_version": "1.2.0",
          "state": {
            "_view_name": "LayoutView",
            "grid_template_rows": null,
            "right": null,
            "justify_content": null,
            "_view_module": "@jupyter-widgets/base",
            "overflow": null,
            "_model_module_version": "1.2.0",
            "_view_count": null,
            "flex_flow": null,
            "width": null,
            "min_width": null,
            "border": null,
            "align_items": null,
            "bottom": null,
            "_model_module": "@jupyter-widgets/base",
            "top": null,
            "grid_column": null,
            "overflow_y": null,
            "overflow_x": null,
            "grid_auto_flow": null,
            "grid_area": null,
            "grid_template_columns": null,
            "flex": null,
            "_model_name": "LayoutModel",
            "justify_items": null,
            "grid_row": null,
            "max_height": null,
            "align_content": null,
            "visibility": null,
            "align_self": null,
            "height": null,
            "min_height": null,
            "padding": null,
            "grid_auto_rows": null,
            "grid_gap": null,
            "max_width": null,
            "order": null,
            "_view_module_version": "1.2.0",
            "grid_template_areas": null,
            "object_position": null,
            "object_fit": null,
            "grid_auto_columns": null,
            "margin": null,
            "display": null,
            "left": null
          }
        },
        "5293d76291bb475a99e116a3698c36c3": {
          "model_module": "@jupyter-widgets/controls",
          "model_name": "ProgressStyleModel",
          "model_module_version": "1.5.0",
          "state": {
            "_view_name": "StyleView",
            "_model_name": "ProgressStyleModel",
            "description_width": "",
            "_view_module": "@jupyter-widgets/base",
            "_model_module_version": "1.5.0",
            "_view_count": null,
            "_view_module_version": "1.2.0",
            "bar_color": null,
            "_model_module": "@jupyter-widgets/controls"
          }
        },
        "c70781374353499b8754dc1bcb7d5d20": {
          "model_module": "@jupyter-widgets/base",
          "model_name": "LayoutModel",
          "model_module_version": "1.2.0",
          "state": {
            "_view_name": "LayoutView",
            "grid_template_rows": null,
            "right": null,
            "justify_content": null,
            "_view_module": "@jupyter-widgets/base",
            "overflow": null,
            "_model_module_version": "1.2.0",
            "_view_count": null,
            "flex_flow": null,
            "width": null,
            "min_width": null,
            "border": null,
            "align_items": null,
            "bottom": null,
            "_model_module": "@jupyter-widgets/base",
            "top": null,
            "grid_column": null,
            "overflow_y": null,
            "overflow_x": null,
            "grid_auto_flow": null,
            "grid_area": null,
            "grid_template_columns": null,
            "flex": null,
            "_model_name": "LayoutModel",
            "justify_items": null,
            "grid_row": null,
            "max_height": null,
            "align_content": null,
            "visibility": null,
            "align_self": null,
            "height": null,
            "min_height": null,
            "padding": null,
            "grid_auto_rows": null,
            "grid_gap": null,
            "max_width": null,
            "order": null,
            "_view_module_version": "1.2.0",
            "grid_template_areas": null,
            "object_position": null,
            "object_fit": null,
            "grid_auto_columns": null,
            "margin": null,
            "display": null,
            "left": null
          }
        },
        "b6f1bc7174f84843ab01f6af2e28b1b7": {
          "model_module": "@jupyter-widgets/controls",
          "model_name": "DescriptionStyleModel",
          "model_module_version": "1.5.0",
          "state": {
            "_view_name": "StyleView",
            "_model_name": "DescriptionStyleModel",
            "description_width": "",
            "_view_module": "@jupyter-widgets/base",
            "_model_module_version": "1.5.0",
            "_view_count": null,
            "_view_module_version": "1.2.0",
            "_model_module": "@jupyter-widgets/controls"
          }
        },
        "7d2e7a6792e54b7aaca12f935f0f79e6": {
          "model_module": "@jupyter-widgets/base",
          "model_name": "LayoutModel",
          "model_module_version": "1.2.0",
          "state": {
            "_view_name": "LayoutView",
            "grid_template_rows": null,
            "right": null,
            "justify_content": null,
            "_view_module": "@jupyter-widgets/base",
            "overflow": null,
            "_model_module_version": "1.2.0",
            "_view_count": null,
            "flex_flow": null,
            "width": null,
            "min_width": null,
            "border": null,
            "align_items": null,
            "bottom": null,
            "_model_module": "@jupyter-widgets/base",
            "top": null,
            "grid_column": null,
            "overflow_y": null,
            "overflow_x": null,
            "grid_auto_flow": null,
            "grid_area": null,
            "grid_template_columns": null,
            "flex": null,
            "_model_name": "LayoutModel",
            "justify_items": null,
            "grid_row": null,
            "max_height": null,
            "align_content": null,
            "visibility": null,
            "align_self": null,
            "height": null,
            "min_height": null,
            "padding": null,
            "grid_auto_rows": null,
            "grid_gap": null,
            "max_width": null,
            "order": null,
            "_view_module_version": "1.2.0",
            "grid_template_areas": null,
            "object_position": null,
            "object_fit": null,
            "grid_auto_columns": null,
            "margin": null,
            "display": null,
            "left": null
          }
        },
        "eb21d3d37d734147bb7ea3479d257b8b": {
          "model_module": "@jupyter-widgets/controls",
          "model_name": "HBoxModel",
          "model_module_version": "1.5.0",
          "state": {
            "_view_name": "HBoxView",
            "_dom_classes": [],
            "_model_name": "HBoxModel",
            "_view_module": "@jupyter-widgets/controls",
            "_model_module_version": "1.5.0",
            "_view_count": null,
            "_view_module_version": "1.5.0",
            "box_style": "",
            "layout": "IPY_MODEL_222918a0cfe742c88508976e47403875",
            "_model_module": "@jupyter-widgets/controls",
            "children": [
              "IPY_MODEL_fb60baaf18ce40c4849f94b8277925b6",
              "IPY_MODEL_c797ea1cea1648e9bd827a6a9d6465c3",
              "IPY_MODEL_47d4b831bc97478b9ce06349c3d00f51"
            ]
          }
        },
        "222918a0cfe742c88508976e47403875": {
          "model_module": "@jupyter-widgets/base",
          "model_name": "LayoutModel",
          "model_module_version": "1.2.0",
          "state": {
            "_view_name": "LayoutView",
            "grid_template_rows": null,
            "right": null,
            "justify_content": null,
            "_view_module": "@jupyter-widgets/base",
            "overflow": null,
            "_model_module_version": "1.2.0",
            "_view_count": null,
            "flex_flow": null,
            "width": null,
            "min_width": null,
            "border": null,
            "align_items": null,
            "bottom": null,
            "_model_module": "@jupyter-widgets/base",
            "top": null,
            "grid_column": null,
            "overflow_y": null,
            "overflow_x": null,
            "grid_auto_flow": null,
            "grid_area": null,
            "grid_template_columns": null,
            "flex": null,
            "_model_name": "LayoutModel",
            "justify_items": null,
            "grid_row": null,
            "max_height": null,
            "align_content": null,
            "visibility": null,
            "align_self": null,
            "height": null,
            "min_height": null,
            "padding": null,
            "grid_auto_rows": null,
            "grid_gap": null,
            "max_width": null,
            "order": null,
            "_view_module_version": "1.2.0",
            "grid_template_areas": null,
            "object_position": null,
            "object_fit": null,
            "grid_auto_columns": null,
            "margin": null,
            "display": null,
            "left": null
          }
        },
        "fb60baaf18ce40c4849f94b8277925b6": {
          "model_module": "@jupyter-widgets/controls",
          "model_name": "HTMLModel",
          "model_module_version": "1.5.0",
          "state": {
            "_view_name": "HTMLView",
            "style": "IPY_MODEL_be4a7916228241ecb5ebc82186fb9a79",
            "_dom_classes": [],
            "description": "",
            "_model_name": "HTMLModel",
            "placeholder": "​",
            "_view_module": "@jupyter-widgets/controls",
            "_model_module_version": "1.5.0",
            "value": "",
            "_view_count": null,
            "_view_module_version": "1.5.0",
            "description_tooltip": null,
            "_model_module": "@jupyter-widgets/controls",
            "layout": "IPY_MODEL_739abe9ddc82477c90982ff386779dc7"
          }
        },
        "c797ea1cea1648e9bd827a6a9d6465c3": {
          "model_module": "@jupyter-widgets/controls",
          "model_name": "FloatProgressModel",
          "model_module_version": "1.5.0",
          "state": {
            "_view_name": "ProgressView",
            "style": "IPY_MODEL_5c492af05d0f4a1fa758889aeceda328",
            "_dom_classes": [],
            "description": "",
            "_model_name": "FloatProgressModel",
            "bar_style": "success",
            "max": 1,
            "_view_module": "@jupyter-widgets/controls",
            "_model_module_version": "1.5.0",
            "value": 1,
            "_view_count": null,
            "_view_module_version": "1.5.0",
            "orientation": "horizontal",
            "min": 0,
            "description_tooltip": null,
            "_model_module": "@jupyter-widgets/controls",
            "layout": "IPY_MODEL_1c6b60c056d446d3bffe5d7ee0dca8c4"
          }
        },
        "47d4b831bc97478b9ce06349c3d00f51": {
          "model_module": "@jupyter-widgets/controls",
          "model_name": "HTMLModel",
          "model_module_version": "1.5.0",
          "state": {
            "_view_name": "HTMLView",
            "style": "IPY_MODEL_91165126879c4677a2b5e8ccb140903e",
            "_dom_classes": [],
            "description": "",
            "_model_name": "HTMLModel",
            "placeholder": "​",
            "_view_module": "@jupyter-widgets/controls",
            "_model_module_version": "1.5.0",
            "value": " 2601/? [00:05&lt;00:00, 481.18it/s]",
            "_view_count": null,
            "_view_module_version": "1.5.0",
            "description_tooltip": null,
            "_model_module": "@jupyter-widgets/controls",
            "layout": "IPY_MODEL_ef5ec00f10f34cb9aa0d2aa9c727273b"
          }
        },
        "be4a7916228241ecb5ebc82186fb9a79": {
          "model_module": "@jupyter-widgets/controls",
          "model_name": "DescriptionStyleModel",
          "model_module_version": "1.5.0",
          "state": {
            "_view_name": "StyleView",
            "_model_name": "DescriptionStyleModel",
            "description_width": "",
            "_view_module": "@jupyter-widgets/base",
            "_model_module_version": "1.5.0",
            "_view_count": null,
            "_view_module_version": "1.2.0",
            "_model_module": "@jupyter-widgets/controls"
          }
        },
        "739abe9ddc82477c90982ff386779dc7": {
          "model_module": "@jupyter-widgets/base",
          "model_name": "LayoutModel",
          "model_module_version": "1.2.0",
          "state": {
            "_view_name": "LayoutView",
            "grid_template_rows": null,
            "right": null,
            "justify_content": null,
            "_view_module": "@jupyter-widgets/base",
            "overflow": null,
            "_model_module_version": "1.2.0",
            "_view_count": null,
            "flex_flow": null,
            "width": null,
            "min_width": null,
            "border": null,
            "align_items": null,
            "bottom": null,
            "_model_module": "@jupyter-widgets/base",
            "top": null,
            "grid_column": null,
            "overflow_y": null,
            "overflow_x": null,
            "grid_auto_flow": null,
            "grid_area": null,
            "grid_template_columns": null,
            "flex": null,
            "_model_name": "LayoutModel",
            "justify_items": null,
            "grid_row": null,
            "max_height": null,
            "align_content": null,
            "visibility": null,
            "align_self": null,
            "height": null,
            "min_height": null,
            "padding": null,
            "grid_auto_rows": null,
            "grid_gap": null,
            "max_width": null,
            "order": null,
            "_view_module_version": "1.2.0",
            "grid_template_areas": null,
            "object_position": null,
            "object_fit": null,
            "grid_auto_columns": null,
            "margin": null,
            "display": null,
            "left": null
          }
        },
        "5c492af05d0f4a1fa758889aeceda328": {
          "model_module": "@jupyter-widgets/controls",
          "model_name": "ProgressStyleModel",
          "model_module_version": "1.5.0",
          "state": {
            "_view_name": "StyleView",
            "_model_name": "ProgressStyleModel",
            "description_width": "",
            "_view_module": "@jupyter-widgets/base",
            "_model_module_version": "1.5.0",
            "_view_count": null,
            "_view_module_version": "1.2.0",
            "bar_color": null,
            "_model_module": "@jupyter-widgets/controls"
          }
        },
        "1c6b60c056d446d3bffe5d7ee0dca8c4": {
          "model_module": "@jupyter-widgets/base",
          "model_name": "LayoutModel",
          "model_module_version": "1.2.0",
          "state": {
            "_view_name": "LayoutView",
            "grid_template_rows": null,
            "right": null,
            "justify_content": null,
            "_view_module": "@jupyter-widgets/base",
            "overflow": null,
            "_model_module_version": "1.2.0",
            "_view_count": null,
            "flex_flow": null,
            "width": "20px",
            "min_width": null,
            "border": null,
            "align_items": null,
            "bottom": null,
            "_model_module": "@jupyter-widgets/base",
            "top": null,
            "grid_column": null,
            "overflow_y": null,
            "overflow_x": null,
            "grid_auto_flow": null,
            "grid_area": null,
            "grid_template_columns": null,
            "flex": null,
            "_model_name": "LayoutModel",
            "justify_items": null,
            "grid_row": null,
            "max_height": null,
            "align_content": null,
            "visibility": null,
            "align_self": null,
            "height": null,
            "min_height": null,
            "padding": null,
            "grid_auto_rows": null,
            "grid_gap": null,
            "max_width": null,
            "order": null,
            "_view_module_version": "1.2.0",
            "grid_template_areas": null,
            "object_position": null,
            "object_fit": null,
            "grid_auto_columns": null,
            "margin": null,
            "display": null,
            "left": null
          }
        },
        "91165126879c4677a2b5e8ccb140903e": {
          "model_module": "@jupyter-widgets/controls",
          "model_name": "DescriptionStyleModel",
          "model_module_version": "1.5.0",
          "state": {
            "_view_name": "StyleView",
            "_model_name": "DescriptionStyleModel",
            "description_width": "",
            "_view_module": "@jupyter-widgets/base",
            "_model_module_version": "1.5.0",
            "_view_count": null,
            "_view_module_version": "1.2.0",
            "_model_module": "@jupyter-widgets/controls"
          }
        },
        "ef5ec00f10f34cb9aa0d2aa9c727273b": {
          "model_module": "@jupyter-widgets/base",
          "model_name": "LayoutModel",
          "model_module_version": "1.2.0",
          "state": {
            "_view_name": "LayoutView",
            "grid_template_rows": null,
            "right": null,
            "justify_content": null,
            "_view_module": "@jupyter-widgets/base",
            "overflow": null,
            "_model_module_version": "1.2.0",
            "_view_count": null,
            "flex_flow": null,
            "width": null,
            "min_width": null,
            "border": null,
            "align_items": null,
            "bottom": null,
            "_model_module": "@jupyter-widgets/base",
            "top": null,
            "grid_column": null,
            "overflow_y": null,
            "overflow_x": null,
            "grid_auto_flow": null,
            "grid_area": null,
            "grid_template_columns": null,
            "flex": null,
            "_model_name": "LayoutModel",
            "justify_items": null,
            "grid_row": null,
            "max_height": null,
            "align_content": null,
            "visibility": null,
            "align_self": null,
            "height": null,
            "min_height": null,
            "padding": null,
            "grid_auto_rows": null,
            "grid_gap": null,
            "max_width": null,
            "order": null,
            "_view_module_version": "1.2.0",
            "grid_template_areas": null,
            "object_position": null,
            "object_fit": null,
            "grid_auto_columns": null,
            "margin": null,
            "display": null,
            "left": null
          }
        },
        "d24bc53e7b294481a1cd6794d68c2e2b": {
          "model_module": "@jupyter-widgets/controls",
          "model_name": "HBoxModel",
          "model_module_version": "1.5.0",
          "state": {
            "_view_name": "HBoxView",
            "_dom_classes": [],
            "_model_name": "HBoxModel",
            "_view_module": "@jupyter-widgets/controls",
            "_model_module_version": "1.5.0",
            "_view_count": null,
            "_view_module_version": "1.5.0",
            "box_style": "",
            "layout": "IPY_MODEL_92b432aee26449cd9df151dbd8e5b21f",
            "_model_module": "@jupyter-widgets/controls",
            "children": [
              "IPY_MODEL_afaff9bf30ce4ab2851708ff1d5c31af",
              "IPY_MODEL_05ad9d1a5dc648db8b671823eacd7b3c",
              "IPY_MODEL_7b0263b5cad44b6e8f7da475f54dc419"
            ]
          }
        },
        "92b432aee26449cd9df151dbd8e5b21f": {
          "model_module": "@jupyter-widgets/base",
          "model_name": "LayoutModel",
          "model_module_version": "1.2.0",
          "state": {
            "_view_name": "LayoutView",
            "grid_template_rows": null,
            "right": null,
            "justify_content": null,
            "_view_module": "@jupyter-widgets/base",
            "overflow": null,
            "_model_module_version": "1.2.0",
            "_view_count": null,
            "flex_flow": null,
            "width": null,
            "min_width": null,
            "border": null,
            "align_items": null,
            "bottom": null,
            "_model_module": "@jupyter-widgets/base",
            "top": null,
            "grid_column": null,
            "overflow_y": null,
            "overflow_x": null,
            "grid_auto_flow": null,
            "grid_area": null,
            "grid_template_columns": null,
            "flex": null,
            "_model_name": "LayoutModel",
            "justify_items": null,
            "grid_row": null,
            "max_height": null,
            "align_content": null,
            "visibility": null,
            "align_self": null,
            "height": null,
            "min_height": null,
            "padding": null,
            "grid_auto_rows": null,
            "grid_gap": null,
            "max_width": null,
            "order": null,
            "_view_module_version": "1.2.0",
            "grid_template_areas": null,
            "object_position": null,
            "object_fit": null,
            "grid_auto_columns": null,
            "margin": null,
            "display": null,
            "left": null
          }
        },
        "afaff9bf30ce4ab2851708ff1d5c31af": {
          "model_module": "@jupyter-widgets/controls",
          "model_name": "HTMLModel",
          "model_module_version": "1.5.0",
          "state": {
            "_view_name": "HTMLView",
            "style": "IPY_MODEL_b7bace9b2efa4518af5197af7a72bc0a",
            "_dom_classes": [],
            "description": "",
            "_model_name": "HTMLModel",
            "placeholder": "​",
            "_view_module": "@jupyter-widgets/controls",
            "_model_module_version": "1.5.0",
            "value": "",
            "_view_count": null,
            "_view_module_version": "1.5.0",
            "description_tooltip": null,
            "_model_module": "@jupyter-widgets/controls",
            "layout": "IPY_MODEL_d7b73c4f440f46e68662581703e44ee5"
          }
        },
        "05ad9d1a5dc648db8b671823eacd7b3c": {
          "model_module": "@jupyter-widgets/controls",
          "model_name": "FloatProgressModel",
          "model_module_version": "1.5.0",
          "state": {
            "_view_name": "ProgressView",
            "style": "IPY_MODEL_74aec77cc7624e76bf9caa5e3cd74f09",
            "_dom_classes": [],
            "description": "",
            "_model_name": "FloatProgressModel",
            "bar_style": "success",
            "max": 1,
            "_view_module": "@jupyter-widgets/controls",
            "_model_module_version": "1.5.0",
            "value": 1,
            "_view_count": null,
            "_view_module_version": "1.5.0",
            "orientation": "horizontal",
            "min": 0,
            "description_tooltip": null,
            "_model_module": "@jupyter-widgets/controls",
            "layout": "IPY_MODEL_bf681dcc9ba44cc5baf4b33b87e966fe"
          }
        },
        "7b0263b5cad44b6e8f7da475f54dc419": {
          "model_module": "@jupyter-widgets/controls",
          "model_name": "HTMLModel",
          "model_module_version": "1.5.0",
          "state": {
            "_view_name": "HTMLView",
            "style": "IPY_MODEL_21f9e3d8e3304e74ad115feeaa080345",
            "_dom_classes": [],
            "description": "",
            "_model_name": "HTMLModel",
            "placeholder": "​",
            "_view_module": "@jupyter-widgets/controls",
            "_model_module_version": "1.5.0",
            "value": " 300/? [00:00&lt;00:00, 457.16it/s]",
            "_view_count": null,
            "_view_module_version": "1.5.0",
            "description_tooltip": null,
            "_model_module": "@jupyter-widgets/controls",
            "layout": "IPY_MODEL_1318d7f4a5024cff846a6e3561b431a9"
          }
        },
        "b7bace9b2efa4518af5197af7a72bc0a": {
          "model_module": "@jupyter-widgets/controls",
          "model_name": "DescriptionStyleModel",
          "model_module_version": "1.5.0",
          "state": {
            "_view_name": "StyleView",
            "_model_name": "DescriptionStyleModel",
            "description_width": "",
            "_view_module": "@jupyter-widgets/base",
            "_model_module_version": "1.5.0",
            "_view_count": null,
            "_view_module_version": "1.2.0",
            "_model_module": "@jupyter-widgets/controls"
          }
        },
        "d7b73c4f440f46e68662581703e44ee5": {
          "model_module": "@jupyter-widgets/base",
          "model_name": "LayoutModel",
          "model_module_version": "1.2.0",
          "state": {
            "_view_name": "LayoutView",
            "grid_template_rows": null,
            "right": null,
            "justify_content": null,
            "_view_module": "@jupyter-widgets/base",
            "overflow": null,
            "_model_module_version": "1.2.0",
            "_view_count": null,
            "flex_flow": null,
            "width": null,
            "min_width": null,
            "border": null,
            "align_items": null,
            "bottom": null,
            "_model_module": "@jupyter-widgets/base",
            "top": null,
            "grid_column": null,
            "overflow_y": null,
            "overflow_x": null,
            "grid_auto_flow": null,
            "grid_area": null,
            "grid_template_columns": null,
            "flex": null,
            "_model_name": "LayoutModel",
            "justify_items": null,
            "grid_row": null,
            "max_height": null,
            "align_content": null,
            "visibility": null,
            "align_self": null,
            "height": null,
            "min_height": null,
            "padding": null,
            "grid_auto_rows": null,
            "grid_gap": null,
            "max_width": null,
            "order": null,
            "_view_module_version": "1.2.0",
            "grid_template_areas": null,
            "object_position": null,
            "object_fit": null,
            "grid_auto_columns": null,
            "margin": null,
            "display": null,
            "left": null
          }
        },
        "74aec77cc7624e76bf9caa5e3cd74f09": {
          "model_module": "@jupyter-widgets/controls",
          "model_name": "ProgressStyleModel",
          "model_module_version": "1.5.0",
          "state": {
            "_view_name": "StyleView",
            "_model_name": "ProgressStyleModel",
            "description_width": "",
            "_view_module": "@jupyter-widgets/base",
            "_model_module_version": "1.5.0",
            "_view_count": null,
            "_view_module_version": "1.2.0",
            "bar_color": null,
            "_model_module": "@jupyter-widgets/controls"
          }
        },
        "bf681dcc9ba44cc5baf4b33b87e966fe": {
          "model_module": "@jupyter-widgets/base",
          "model_name": "LayoutModel",
          "model_module_version": "1.2.0",
          "state": {
            "_view_name": "LayoutView",
            "grid_template_rows": null,
            "right": null,
            "justify_content": null,
            "_view_module": "@jupyter-widgets/base",
            "overflow": null,
            "_model_module_version": "1.2.0",
            "_view_count": null,
            "flex_flow": null,
            "width": "20px",
            "min_width": null,
            "border": null,
            "align_items": null,
            "bottom": null,
            "_model_module": "@jupyter-widgets/base",
            "top": null,
            "grid_column": null,
            "overflow_y": null,
            "overflow_x": null,
            "grid_auto_flow": null,
            "grid_area": null,
            "grid_template_columns": null,
            "flex": null,
            "_model_name": "LayoutModel",
            "justify_items": null,
            "grid_row": null,
            "max_height": null,
            "align_content": null,
            "visibility": null,
            "align_self": null,
            "height": null,
            "min_height": null,
            "padding": null,
            "grid_auto_rows": null,
            "grid_gap": null,
            "max_width": null,
            "order": null,
            "_view_module_version": "1.2.0",
            "grid_template_areas": null,
            "object_position": null,
            "object_fit": null,
            "grid_auto_columns": null,
            "margin": null,
            "display": null,
            "left": null
          }
        },
        "21f9e3d8e3304e74ad115feeaa080345": {
          "model_module": "@jupyter-widgets/controls",
          "model_name": "DescriptionStyleModel",
          "model_module_version": "1.5.0",
          "state": {
            "_view_name": "StyleView",
            "_model_name": "DescriptionStyleModel",
            "description_width": "",
            "_view_module": "@jupyter-widgets/base",
            "_model_module_version": "1.5.0",
            "_view_count": null,
            "_view_module_version": "1.2.0",
            "_model_module": "@jupyter-widgets/controls"
          }
        },
        "1318d7f4a5024cff846a6e3561b431a9": {
          "model_module": "@jupyter-widgets/base",
          "model_name": "LayoutModel",
          "model_module_version": "1.2.0",
          "state": {
            "_view_name": "LayoutView",
            "grid_template_rows": null,
            "right": null,
            "justify_content": null,
            "_view_module": "@jupyter-widgets/base",
            "overflow": null,
            "_model_module_version": "1.2.0",
            "_view_count": null,
            "flex_flow": null,
            "width": null,
            "min_width": null,
            "border": null,
            "align_items": null,
            "bottom": null,
            "_model_module": "@jupyter-widgets/base",
            "top": null,
            "grid_column": null,
            "overflow_y": null,
            "overflow_x": null,
            "grid_auto_flow": null,
            "grid_area": null,
            "grid_template_columns": null,
            "flex": null,
            "_model_name": "LayoutModel",
            "justify_items": null,
            "grid_row": null,
            "max_height": null,
            "align_content": null,
            "visibility": null,
            "align_self": null,
            "height": null,
            "min_height": null,
            "padding": null,
            "grid_auto_rows": null,
            "grid_gap": null,
            "max_width": null,
            "order": null,
            "_view_module_version": "1.2.0",
            "grid_template_areas": null,
            "object_position": null,
            "object_fit": null,
            "grid_auto_columns": null,
            "margin": null,
            "display": null,
            "left": null
          }
        }
      }
    }
  },
  "cells": [
    {
      "cell_type": "code",
      "metadata": {
        "id": "CeuwgRSizIsn"
      },
      "source": [
        "!pip install crepe\n",
        "import crepe\n"
      ],
      "execution_count": null,
      "outputs": []
    },
    {
      "cell_type": "code",
      "metadata": {
        "id": "HakGRmjvxzRm"
      },
      "source": [
        "from typing import List, Tuple\n",
        "import os\n",
        "import pickle\n",
        "\n",
        "import torch\n",
        "from torch import Tensor\n",
        "import numpy as np\n",
        "import pandas as pd\n",
        "import librosa\n",
        "from tqdm.notebook import tqdm\n",
        "import matplotlib.pyplot as plt\n",
        "\n",
        "import warnings\n",
        "warnings.filterwarnings(\"ignore\")"
      ],
      "execution_count": null,
      "outputs": []
    },
    {
      "cell_type": "code",
      "metadata": {
        "id": "auUXWo7Sy3QX"
      },
      "source": [
        "SAMPLE_RATE = 16000\n",
        "train_hum_path = '/content/drive/MyDrive/hum_project/train/hum'\n",
        "train_song_path = '/content/drive/MyDrive/hum_project/train/song'\n",
        "\n",
        "test_hum_path = '/content/drive/MyDrive/hum_project/public_test/hum'\n",
        "test_song_path = '/content/drive/MyDrive/hum_project/public_test/full_song'\n",
        "\n",
        "save_data_path = '/content/drive/MyDrive/hum_project/transformed_data'\n",
        "crepe_features_path = '/content/drive/MyDrive/hum_project/transformed_data/crepe_freq'"
      ],
      "execution_count": null,
      "outputs": []
    },
    {
      "cell_type": "code",
      "metadata": {
        "id": "Dr4KwuSDzE2i"
      },
      "source": [
        "train_hum_filenames = os.listdir(train_hum_path)\n",
        "train_song_filenames = os.listdir(train_song_path)\n",
        "\n",
        "train_hum_filepaths = [os.path.join(train_hum_path, x) for x in train_hum_filenames]\n",
        "train_song_filepaths = [os.path.join(train_song_path, x) for x in train_song_filenames]\n",
        "\n",
        "test_hum_filenames = os.listdir(test_hum_path)\n",
        "test_song_filenames = os.listdir(test_song_path)\n",
        "\n",
        "test_hum_filepaths = [os.path.join(test_hum_path, x) for x in test_hum_filenames]\n",
        "test_song_filepaths = [os.path.join(test_song_path, x) for x in test_song_filenames]\n"
      ],
      "execution_count": null,
      "outputs": []
    },
    {
      "cell_type": "code",
      "metadata": {
        "id": "ETFQhyfF0Utg"
      },
      "source": [
        "def read_audios(audio_paths: List[str]) -> List[Tuple[str, np.ndarray, int]]:\n",
        "    \"\"\"This function takes in a list of audio file paths and read all\n",
        "    of them and return a list of tuples (filepath, audio, sr)\"\"\"\n",
        "    \n",
        "    all_audios = []\n",
        "    for path in tqdm(audio_paths):\n",
        "        audio, sr = librosa.load(path, sr=SAMPLE_RATE)\n",
        "        all_audios.append((path, audio, sr))\n",
        "\n",
        "    return all_audios"
      ],
      "execution_count": null,
      "outputs": []
    },
    {
      "cell_type": "code",
      "metadata": {
        "colab": {
          "base_uri": "https://localhost:8080/",
          "height": 49,
          "referenced_widgets": [
            "5b5e1c660b1d47f8a3998eee3e4a2566",
            "b5a25b7a64404f00aeda1896dc4a4a0e",
            "48c74d5041944463980a6a5041968d1b",
            "213f5ca0941142ce8c353f56543c4dbd",
            "acbb542329924110b68cb91b011d3517",
            "9ae4d1ce848245c5a4ef942c4d010bf5",
            "b0f35706d438425e903a24e558fbd809",
            "5293d76291bb475a99e116a3698c36c3",
            "c70781374353499b8754dc1bcb7d5d20",
            "b6f1bc7174f84843ab01f6af2e28b1b7",
            "7d2e7a6792e54b7aaca12f935f0f79e6"
          ]
        },
        "id": "1p0ZdkCR05dP",
        "outputId": "3b1000a8-c91a-4758-e400-bc4aca2173e6"
      },
      "source": [
        "train_hum_data = read_audios(train_hum_filepaths)\n",
        "with open(os.path.join(save_data_path, 'train_hum_signals.pkl', ), 'wb') as f:\n",
        "    pickle.dump(train_hum_data, f)\n",
        "\n",
        "train_song_data = read_audios(train_song_filepaths)\n",
        "with open(os.path.join(save_data_path, 'train_song_signals.pkl', ), 'wb') as f:\n",
        "    pickle.dump(train_song_data, f)\n",
        "\n",
        "test_hum_data = read_audios(test_hum_filepaths[1:])\n",
        "with open(os.path.join(save_data_path, 'test_hum_signals.pkl', ), 'wb') as f:\n",
        "    pickle.dump(test_hum_data, f)\n",
        "\n",
        "test_song_data = read_audios(test_song_filepaths[:-1])\n",
        "with open(os.path.join(save_data_path, 'test_song_signals.pkl', ), 'wb') as f:\n",
        "    pickle.dump(test_song_data, f)"
      ],
      "execution_count": null,
      "outputs": [
        {
          "output_type": "display_data",
          "data": {
            "application/vnd.jupyter.widget-view+json": {
              "model_id": "5b5e1c660b1d47f8a3998eee3e4a2566",
              "version_minor": 0,
              "version_major": 2
            },
            "text/plain": [
              "  0%|          | 0/2901 [00:00<?, ?it/s]"
            ]
          },
          "metadata": {}
        }
      ]
    },
    {
      "cell_type": "markdown",
      "metadata": {
        "id": "5aDSYYjOxt0P"
      },
      "source": [
        "## CREPE transformation"
      ]
    },
    {
      "cell_type": "code",
      "metadata": {
        "id": "rjoddgIkpfnI"
      },
      "source": [
        "def crepe_transform(data) -> List[Tuple[str, np.ndarray]]:\n",
        "    \"\"\"Transform audio signals into frequency using crepe\"\"\"\n",
        "    all_features = []\n",
        "    for sample in tqdm(data):\n",
        "        time, frequency, confidence, activation = crepe.predict(sample[1], SAMPLE_RATE, viterbi=True)\n",
        "        all_features.append((sample[0], frequency))\n",
        "\n",
        "    return all_features\n"
      ],
      "execution_count": null,
      "outputs": []
    },
    {
      "cell_type": "code",
      "metadata": {
        "id": "EFAo_lOQxpID"
      },
      "source": [
        "crepe_save_path = '/content/drive/MyDrive/hum_project/transformed_data/crepe_freq'\n",
        "test_hum_signals = pickle.load(open('/content/drive/MyDrive/hum_project/transformed_data/test_hum_signals.pkl', 'rb'))\n"
      ],
      "execution_count": null,
      "outputs": []
    },
    {
      "cell_type": "code",
      "metadata": {
        "id": "RWfE0i_7zGbW"
      },
      "source": [
        "test_hum_crepe = crepe_transform(test_hum_signals)\n",
        "with open(os.path.join(crepe_save_path, 'test_hum_crepe.pkl'), 'wb') as f:\n",
        "    pickle.dump(test_hum_crepe, f)"
      ],
      "execution_count": null,
      "outputs": []
    },
    {
      "cell_type": "code",
      "metadata": {
        "id": "HD8lEdrdzMzh"
      },
      "source": [
        "test_song_signals = pickle.load(open('/content/drive/MyDrive/hum_project/transformed_data/test_song_signals.pkl', 'rb'))\n",
        "test_song_crepe = crepe_transform(test_song_signals)\n",
        "with open(os.path.join(crepe_save_path, 'test_song_crepe.pkl'), 'wb') as f:\n",
        "    pickle.dump(test_song_crepe, f)"
      ],
      "execution_count": null,
      "outputs": []
    },
    {
      "cell_type": "code",
      "metadata": {
        "id": "DCtsL9bm3FL3"
      },
      "source": [
        "train_song_signals = pickle.load(open('/content/drive/MyDrive/hum_project/transformed_data/train_song_signals.pkl', 'rb'))\n",
        "train_song_crepe = crepe_transform(train_song_signals)\n",
        "with open(os.path.join(crepe_save_path, 'train_song_crepe.pkl'), 'wb') as f:\n",
        "    pickle.dump(train_song_crepe, f)"
      ],
      "execution_count": null,
      "outputs": []
    },
    {
      "cell_type": "code",
      "metadata": {
        "id": "gXRTrlsb3-8v"
      },
      "source": [
        "train_hum_signals = pickle.load(open('/content/drive/MyDrive/hum_project/transformed_data/train_hum_signals.pkl', 'rb'))\n",
        "train_hum_crepe = crepe_transform(train_hum_signals)\n",
        "with open(os.path.join(crepe_save_path, 'train_hum_crepe.pkl'), 'wb') as f:\n",
        "    pickle.dump(train_hum_crepe, f)"
      ],
      "execution_count": null,
      "outputs": []
    },
    {
      "cell_type": "code",
      "metadata": {
        "id": "3-c8lS1V4bBN"
      },
      "source": [
        "# pad, cut and arrange all train, test data into a list\n",
        "# of (song_tensor, hum_tensor, song_id )\n",
        "# split train data into train and val\n",
        "test_hum_freq = pickle.load(open('/content/drive/MyDrive/hum_project/transformed_data/crepe_freq/test_hum_crepe.pkl', 'rb'))\n",
        "test_song_freq = pickle.load(open('/content/drive/MyDrive/hum_project/transformed_data/crepe_freq/test_song_crepe.pkl', 'rb'))\n",
        "train_hum_freq = pickle.load(open('/content/drive/MyDrive/hum_project/transformed_data/crepe_freq/train_hum_crepe.pkl', 'rb'))\n",
        "train_song_freq = pickle.load(open('/content/drive/MyDrive/hum_project/transformed_data/crepe_freq/train_song_crepe.pkl', 'rb'))"
      ],
      "execution_count": null,
      "outputs": []
    },
    {
      "cell_type": "code",
      "metadata": {
        "id": "ic8H4pFsFT3o"
      },
      "source": [
        "train_annotation = pd.read_csv('/content/drive/MyDrive/hum_project/train/train_meta.csv')"
      ],
      "execution_count": null,
      "outputs": []
    },
    {
      "cell_type": "code",
      "metadata": {
        "colab": {
          "base_uri": "https://localhost:8080/",
          "height": 423
        },
        "id": "NdxqYWQcFmE8",
        "outputId": "e35a54c7-80f3-4078-a146-46bc0d82ddc7"
      },
      "source": [
        ""
      ],
      "execution_count": null,
      "outputs": [
        {
          "output_type": "execute_result",
          "data": {
            "text/html": [
              "<div>\n",
              "<style scoped>\n",
              "    .dataframe tbody tr th:only-of-type {\n",
              "        vertical-align: middle;\n",
              "    }\n",
              "\n",
              "    .dataframe tbody tr th {\n",
              "        vertical-align: top;\n",
              "    }\n",
              "\n",
              "    .dataframe thead th {\n",
              "        text-align: right;\n",
              "    }\n",
              "</style>\n",
              "<table border=\"1\" class=\"dataframe\">\n",
              "  <thead>\n",
              "    <tr style=\"text-align: right;\">\n",
              "      <th></th>\n",
              "      <th>music_id</th>\n",
              "      <th>song_path</th>\n",
              "      <th>hum_path</th>\n",
              "    </tr>\n",
              "  </thead>\n",
              "  <tbody>\n",
              "    <tr>\n",
              "      <th>0</th>\n",
              "      <td>1075110394</td>\n",
              "      <td>train/song/0000.mp3</td>\n",
              "      <td>train/hum/0000.mp3</td>\n",
              "    </tr>\n",
              "    <tr>\n",
              "      <th>1</th>\n",
              "      <td>1079628790</td>\n",
              "      <td>train/song/0001.mp3</td>\n",
              "      <td>train/hum/0001.mp3</td>\n",
              "    </tr>\n",
              "    <tr>\n",
              "      <th>2</th>\n",
              "      <td>1078271932</td>\n",
              "      <td>train/song/0002.mp3</td>\n",
              "      <td>train/hum/0002.mp3</td>\n",
              "    </tr>\n",
              "    <tr>\n",
              "      <th>3</th>\n",
              "      <td>1076457212</td>\n",
              "      <td>train/song/0003.mp3</td>\n",
              "      <td>train/hum/0003.mp3</td>\n",
              "    </tr>\n",
              "    <tr>\n",
              "      <th>4</th>\n",
              "      <td>1073861056</td>\n",
              "      <td>train/song/0004.mp3</td>\n",
              "      <td>train/hum/0004.mp3</td>\n",
              "    </tr>\n",
              "    <tr>\n",
              "      <th>...</th>\n",
              "      <td>...</td>\n",
              "      <td>...</td>\n",
              "      <td>...</td>\n",
              "    </tr>\n",
              "    <tr>\n",
              "      <th>2896</th>\n",
              "      <td>1079334752</td>\n",
              "      <td>train/song/2896.mp3</td>\n",
              "      <td>train/hum/2896.mp3</td>\n",
              "    </tr>\n",
              "    <tr>\n",
              "      <th>2897</th>\n",
              "      <td>1074004286</td>\n",
              "      <td>train/song/2897.mp3</td>\n",
              "      <td>train/hum/2897.mp3</td>\n",
              "    </tr>\n",
              "    <tr>\n",
              "      <th>2898</th>\n",
              "      <td>1073793350</td>\n",
              "      <td>train/song/2898.mp3</td>\n",
              "      <td>train/hum/2898.mp3</td>\n",
              "    </tr>\n",
              "    <tr>\n",
              "      <th>2899</th>\n",
              "      <td>1079416855</td>\n",
              "      <td>train/song/2899.mp3</td>\n",
              "      <td>train/hum/2899.mp3</td>\n",
              "    </tr>\n",
              "    <tr>\n",
              "      <th>2900</th>\n",
              "      <td>1074129327</td>\n",
              "      <td>train/song/2900.mp3</td>\n",
              "      <td>train/hum/2900.mp3</td>\n",
              "    </tr>\n",
              "  </tbody>\n",
              "</table>\n",
              "<p>2901 rows × 3 columns</p>\n",
              "</div>"
            ],
            "text/plain": [
              "        music_id            song_path            hum_path\n",
              "0     1075110394  train/song/0000.mp3  train/hum/0000.mp3\n",
              "1     1079628790  train/song/0001.mp3  train/hum/0001.mp3\n",
              "2     1078271932  train/song/0002.mp3  train/hum/0002.mp3\n",
              "3     1076457212  train/song/0003.mp3  train/hum/0003.mp3\n",
              "4     1073861056  train/song/0004.mp3  train/hum/0004.mp3\n",
              "...          ...                  ...                 ...\n",
              "2896  1079334752  train/song/2896.mp3  train/hum/2896.mp3\n",
              "2897  1074004286  train/song/2897.mp3  train/hum/2897.mp3\n",
              "2898  1073793350  train/song/2898.mp3  train/hum/2898.mp3\n",
              "2899  1079416855  train/song/2899.mp3  train/hum/2899.mp3\n",
              "2900  1074129327  train/song/2900.mp3  train/hum/2900.mp3\n",
              "\n",
              "[2901 rows x 3 columns]"
            ]
          },
          "metadata": {},
          "execution_count": 9
        }
      ]
    },
    {
      "cell_type": "code",
      "metadata": {
        "id": "mk_H2TqmFnzT"
      },
      "source": [
        "# train test split\n",
        "from sklearn.model_selection import train_test_split\n",
        "train_meta, val_meta = train_test_split(train_annotation, test_size = 300, random_state = 42)"
      ],
      "execution_count": null,
      "outputs": []
    },
    {
      "cell_type": "code",
      "metadata": {
        "id": "qaw_AMcIGNSI"
      },
      "source": [
        "def create_dataset(meta_data: pd.DataFrame, song, hum) -> List[Tuple[Tensor, Tensor, int]]:\n",
        "    data = []\n",
        "    for i, row in tqdm(meta_data.iterrows()):\n",
        "        song_filename =  row['song_path'].split('/')[-1]\n",
        "        hum_filename = row['hum_path'].split('/')[-1]\n",
        "        music_id = row['music_id']\n",
        "        tup = [music_id, song_filename, hum_filename]\n",
        "        for s in song:\n",
        "            if s[0].split('/')[-1] == song_filename:\n",
        "                tup.append(s[1])\n",
        "                break\n",
        "        for h in hum:\n",
        "            if h[0].split('/')[-1] == hum_filename:\n",
        "                tup.append(h[1])\n",
        "        data.append(tuple(tup))\n",
        "\n",
        "    return data"
      ],
      "execution_count": null,
      "outputs": []
    },
    {
      "cell_type": "code",
      "metadata": {
        "colab": {
          "base_uri": "https://localhost:8080/",
          "height": 271,
          "referenced_widgets": [
            "eb21d3d37d734147bb7ea3479d257b8b",
            "222918a0cfe742c88508976e47403875",
            "fb60baaf18ce40c4849f94b8277925b6",
            "c797ea1cea1648e9bd827a6a9d6465c3",
            "47d4b831bc97478b9ce06349c3d00f51",
            "be4a7916228241ecb5ebc82186fb9a79",
            "739abe9ddc82477c90982ff386779dc7",
            "5c492af05d0f4a1fa758889aeceda328",
            "1c6b60c056d446d3bffe5d7ee0dca8c4",
            "91165126879c4677a2b5e8ccb140903e",
            "ef5ec00f10f34cb9aa0d2aa9c727273b",
            "d24bc53e7b294481a1cd6794d68c2e2b",
            "92b432aee26449cd9df151dbd8e5b21f",
            "afaff9bf30ce4ab2851708ff1d5c31af",
            "05ad9d1a5dc648db8b671823eacd7b3c",
            "7b0263b5cad44b6e8f7da475f54dc419",
            "b7bace9b2efa4518af5197af7a72bc0a",
            "d7b73c4f440f46e68662581703e44ee5",
            "74aec77cc7624e76bf9caa5e3cd74f09",
            "bf681dcc9ba44cc5baf4b33b87e966fe",
            "21f9e3d8e3304e74ad115feeaa080345",
            "1318d7f4a5024cff846a6e3561b431a9"
          ]
        },
        "id": "TANY9B8MGVFL",
        "outputId": "7c2be8d8-9001-4248-9435-0ee12f20dff0"
      },
      "source": [
        "train_data = create_dataset(train_meta, train_song_freq, train_hum_freq)\n",
        "val_data = create_dataset(val_meta, train_song_freq, train_hum_freq)\n"
      ],
      "execution_count": null,
      "outputs": [
        {
          "output_type": "display_data",
          "data": {
            "application/vnd.jupyter.widget-view+json": {
              "model_id": "eb21d3d37d734147bb7ea3479d257b8b",
              "version_minor": 0,
              "version_major": 2
            },
            "text/plain": [
              "0it [00:00, ?it/s]"
            ]
          },
          "metadata": {}
        },
        {
          "output_type": "display_data",
          "data": {
            "application/vnd.jupyter.widget-view+json": {
              "model_id": "d24bc53e7b294481a1cd6794d68c2e2b",
              "version_minor": 0,
              "version_major": 2
            },
            "text/plain": [
              "0it [00:00, ?it/s]"
            ]
          },
          "metadata": {}
        },
        {
          "output_type": "error",
          "ename": "NameError",
          "evalue": "ignored",
          "traceback": [
            "\u001b[0;31m---------------------------------------------------------------------------\u001b[0m",
            "\u001b[0;31mNameError\u001b[0m                                 Traceback (most recent call last)",
            "\u001b[0;32m<ipython-input-90-9f1916786e54>\u001b[0m in \u001b[0;36m<module>\u001b[0;34m()\u001b[0m\n\u001b[1;32m      1\u001b[0m \u001b[0mtrain_data\u001b[0m \u001b[0;34m=\u001b[0m \u001b[0mcreate_dataset\u001b[0m\u001b[0;34m(\u001b[0m\u001b[0mtrain_meta\u001b[0m\u001b[0;34m,\u001b[0m \u001b[0mtrain_song_freq\u001b[0m\u001b[0;34m,\u001b[0m \u001b[0mtrain_hum_freq\u001b[0m\u001b[0;34m)\u001b[0m\u001b[0;34m\u001b[0m\u001b[0;34m\u001b[0m\u001b[0m\n\u001b[1;32m      2\u001b[0m \u001b[0mval_data\u001b[0m \u001b[0;34m=\u001b[0m \u001b[0mcreate_dataset\u001b[0m\u001b[0;34m(\u001b[0m\u001b[0mval_meta\u001b[0m\u001b[0;34m,\u001b[0m \u001b[0mtrain_song_freq\u001b[0m\u001b[0;34m,\u001b[0m \u001b[0mtrain_hum_freq\u001b[0m\u001b[0;34m)\u001b[0m\u001b[0;34m\u001b[0m\u001b[0;34m\u001b[0m\u001b[0m\n\u001b[0;32m----> 3\u001b[0;31m \u001b[0mtest_data\u001b[0m \u001b[0;34m=\u001b[0m \u001b[0mcreate_dataset\u001b[0m\u001b[0;34m(\u001b[0m\u001b[0mtest_annotation\u001b[0m\u001b[0;34m)\u001b[0m\u001b[0;34m\u001b[0m\u001b[0;34m\u001b[0m\u001b[0m\n\u001b[0m",
            "\u001b[0;31mNameError\u001b[0m: name 'test_annotation' is not defined"
          ]
        }
      ]
    },
    {
      "cell_type": "code",
      "metadata": {
        "id": "uCHgB5VCJ4z2"
      },
      "source": [
        "MIN = 20\n",
        "MAX = 600\n",
        "LOW = -1\n",
        "HIGH = 1\n",
        "scaler = lambda x: LOW + ((x - MIN)*(HIGH-LOW))/(MAX-MIN)\n",
        "def plot_freq(index):\n",
        "    print(f\"song mean {np.mean(train_data[index][3])}\")\n",
        "    print(f\"hum mean {np.mean(train_data[index][4])}\")\n",
        "    plt.figure(figsize=(16, 6))\n",
        "    plt.subplot(1,2,1)\n",
        "    plt.plot(train_data[index][3], label = 'song')\n",
        "    plt.plot(train_data[index][4], label = 'hum')\n",
        "\n",
        "    plt.subplot(1,2,2)\n",
        "    plt.plot(scaler(train_data[index][3]), label = 'song')\n",
        "    plt.plot(scaler(train_data[index][4]), label = 'hum')\n",
        "\n",
        "    plt.legend()"
      ],
      "execution_count": null,
      "outputs": []
    },
    {
      "cell_type": "code",
      "metadata": {
        "colab": {
          "base_uri": "https://localhost:8080/",
          "height": 411
        },
        "id": "4GweM0rdSq04",
        "outputId": "1becdefe-4e5e-4221-9fdf-08b9355c6e7a"
      },
      "source": [
        "plot_freq(352)"
      ],
      "execution_count": null,
      "outputs": [
        {
          "output_type": "stream",
          "name": "stdout",
          "text": [
            "song mean 273.95130107506685\n",
            "hum mean 351.7790722638768\n"
          ]
        },
        {
          "output_type": "display_data",
          "data": {
            "image/png": "[encoded data removed]",
            "text/plain": [
              "<Figure size 1152x432 with 2 Axes>"
            ]
          },
          "metadata": {
            "needs_background": "light"
          }
        }
      ]
    },
    {
      "cell_type": "code",
      "metadata": {
        "id": "EsZ4EiWaLz8m"
      },
      "source": [
        "with open('/content/drive/MyDrive/hum_project/transformed_data/crepe_freq/train_data.pkl', 'wb') as f:\n",
        "    pickle.dump(train_data, f)\n",
        "with open('/content/drive/MyDrive/hum_project/transformed_data/crepe_freq/val_data.pkl', 'wb') as f:\n",
        "    pickle.dump(val_data, f) "
      ],
      "execution_count": null,
      "outputs": []
    },
    {
      "cell_type": "code",
      "metadata": {
        "id": "NZSwDmwpRxlQ"
      },
      "source": [
        "# normalize, cut outliers \n",
        "# finer crepe 1 ms\n",
        "# remove samples that have too far mean\n",
        "# avoid one batch has two tup of the same song"
      ],
      "execution_count": null,
      "outputs": []
    },
    {
      "cell_type": "code",
      "metadata": {
        "colab": {
          "base_uri": "https://localhost:8080/"
        },
        "id": "OJn_vc1Xfne1",
        "outputId": "b527d86a-7d5c-42b6-beda-fa182f59c44b"
      },
      "source": [
        "np.concatenate([x, x]).shape"
      ],
      "execution_count": null,
      "outputs": [
        {
          "output_type": "execute_result",
          "data": {
            "text/plain": [
              "(218,)"
            ]
          },
          "metadata": {},
          "execution_count": 7
        }
      ]
    },
    {
      "cell_type": "code",
      "metadata": {
        "id": "tZDjeOetfpjh"
      },
      "source": [
        "x = np.random.randn((109))"
      ],
      "execution_count": null,
      "outputs": []
    },
    {
      "cell_type": "code",
      "metadata": {
        "colab": {
          "base_uri": "https://localhost:8080/"
        },
        "id": "oe_bMjCG0S6t",
        "outputId": "ef217a08-d5b4-4eef-db7f-d1895e6d968b"
      },
      "source": [
        "x.shape"
      ],
      "execution_count": null,
      "outputs": [
        {
          "output_type": "execute_result",
          "data": {
            "text/plain": [
              "(109,)"
            ]
          },
          "metadata": {},
          "execution_count": 4
        }
      ]
    },
    {
      "cell_type": "code",
      "metadata": {
        "id": "HKhfb25k0V93"
      },
      "source": [
        ""
      ],
      "execution_count": null,
      "outputs": []
    }
  ]
}